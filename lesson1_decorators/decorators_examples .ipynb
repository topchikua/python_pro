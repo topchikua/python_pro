{
 "cells": [
  {
   "cell_type": "code",
   "execution_count": 5,
   "id": "d5f7b862",
   "metadata": {},
   "outputs": [],
   "source": [
    "import pathlib\n",
    "import os\n",
    "import random\n",
    "import time\n",
    "import timeit\n",
    "import functools\n",
    "from collections import OrderedDict\n",
    "import requests\n",
    "import sys\n",
    "\n",
    "from time import sleep"
   ]
  },
  {
   "cell_type": "markdown",
   "id": "f59e0f09",
   "metadata": {},
   "source": [
    "### Template"
   ]
  },
  {
   "cell_type": "markdown",
   "id": "4f951009",
   "metadata": {},
   "source": [
    "#### 2-level decorator"
   ]
  },
  {
   "cell_type": "code",
   "execution_count": null,
   "id": "10501297",
   "metadata": {},
   "outputs": [],
   "source": [
    "def profile(f):\n",
    "    @functools.wraps(f)\n",
    "    def deco(*args, **kwargs):\n",
    "        start = time.time()\n",
    "        result = f(*args, **kwargs)\n",
    "        print('Elapsed time', f'({f.__name__}): {time.time() - start}s')\n",
    "        return result\n",
    "\n",
    "    return deco\n",
    "\n",
    "\n",
    "@profile\n",
    "def foo(): ..."
   ]
  },
  {
   "cell_type": "markdown",
   "id": "1a8c5bde",
   "metadata": {},
   "source": [
    "#### 3-level decorator"
   ]
  },
  {
   "cell_type": "code",
   "execution_count": null,
   "id": "d8a196e4",
   "metadata": {},
   "outputs": [],
   "source": [
    "def profile(msg='Elapsed time', file=sys.stdout):\n",
    "    def internal(f):\n",
    "        @functools.wraps(f)\n",
    "        def deco(*args, **kwargs):\n",
    "            start = time.time()\n",
    "            result = f(*args, **kwargs)\n",
    "            print(msg, f'({f.__name__}): {time.time() - start}s', file=file)\n",
    "            return result\n",
    "\n",
    "        return deco\n",
    "\n",
    "    return internal\n",
    "\n",
    "\n",
    "@profile()\n",
    "def foo(): ...\n"
   ]
  },
  {
   "cell_type": "markdown",
   "id": "12b6e9e9",
   "metadata": {},
   "source": [
    "# Real life examples\n"
   ]
  },
  {
   "cell_type": "code",
   "execution_count": 19,
   "id": "8e7099ba",
   "metadata": {},
   "outputs": [],
   "source": [
    "def profile(msg='Elapsed time'):\n",
    "    def internal(f):\n",
    "        @functools.wraps(f)\n",
    "        def deco(*args, **kwargs):\n",
    "            start = time.time()\n",
    "            result = f(*args, **kwargs)\n",
    "            print(msg, f'({f.__name__}): {time.time() - start}s')\n",
    "            return result\n",
    "\n",
    "        return deco\n",
    "\n",
    "    return internal"
   ]
  },
  {
   "cell_type": "code",
   "execution_count": 20,
   "id": "52217b29",
   "metadata": {},
   "outputs": [
    {
     "data": {
      "text/plain": [
       "13"
      ]
     },
     "execution_count": 20,
     "metadata": {},
     "output_type": "execute_result"
    }
   ],
   "source": [
    "# 0 1 2 3 4 5 6 7 8\n",
    "# 0 1 1 2 3 5 8 13 ...\n",
    "def fibo(n):\n",
    "    \"\"\"Super inefficient fibo function\"\"\"\n",
    "    if n < 2:\n",
    "        return n\n",
    "    else:\n",
    "        return fibo(n - 1) + fibo(n - 2)\n",
    "\n",
    "\n",
    "fibo(7)"
   ]
  },
  {
   "cell_type": "code",
   "execution_count": 25,
   "id": "0aa16191",
   "metadata": {},
   "outputs": [
    {
     "name": "stdout",
     "output_type": "stream",
     "text": [
      "Elapsed time (fibo): 9.5367431640625e-07s\n",
      "Elapsed time (fibo): 2.1457672119140625e-06s\n",
      "Elapsed time (fibo): 0.00048089027404785156s\n",
      "Elapsed time (fibo): 0.0s\n",
      "Elapsed time (fibo): 0.0004971027374267578s\n",
      "Elapsed time (fibo): 9.5367431640625e-07s\n",
      "Elapsed time (fibo): 0.0s\n",
      "Elapsed time (fibo): 1.4781951904296875e-05s\n",
      "Elapsed time (fibo): 0.0005292892456054688s\n",
      "Elapsed time (fibo): 9.5367431640625e-07s\n",
      "Elapsed time (fibo): 0.0s\n",
      "Elapsed time (fibo): 1.4781951904296875e-05s\n",
      "Elapsed time (fibo): 1.1920928955078125e-06s\n",
      "Elapsed time (fibo): 3.0994415283203125e-05s\n",
      "Elapsed time (fibo): 0.0005750656127929688s\n",
      "Elapsed time (fibo): 0.0s\n",
      "Elapsed time (fibo): 0.0s\n",
      "Elapsed time (fibo): 1.4781951904296875e-05s\n",
      "Elapsed time (fibo): 7.152557373046875e-07s\n",
      "Elapsed time (fibo): 3.0040740966796875e-05s\n",
      "Elapsed time (fibo): 9.5367431640625e-07s\n",
      "Elapsed time (fibo): 1.1920928955078125e-06s\n",
      "Elapsed time (fibo): 1.621246337890625e-05s\n",
      "Elapsed time (fibo): 6.29425048828125e-05s\n",
      "Elapsed time (fibo): 0.0006539821624755859s\n",
      "Elapsed time (fibo): 0.0s\n",
      "Elapsed time (fibo): 1.1920928955078125e-06s\n",
      "Elapsed time (fibo): 1.52587890625e-05s\n",
      "Elapsed time (fibo): 9.5367431640625e-07s\n",
      "Elapsed time (fibo): 3.0994415283203125e-05s\n",
      "Elapsed time (fibo): 1.1920928955078125e-06s\n",
      "Elapsed time (fibo): 0.0s\n",
      "Elapsed time (fibo): 1.5020370483398438e-05s\n",
      "Elapsed time (fibo): 6.222724914550781e-05s\n",
      "Elapsed time (fibo): 0.0s\n",
      "Elapsed time (fibo): 9.5367431640625e-07s\n",
      "Elapsed time (fibo): 1.5020370483398438e-05s\n",
      "Elapsed time (fibo): 0.0s\n",
      "Elapsed time (fibo): 2.8848648071289062e-05s\n",
      "Elapsed time (fibo): 0.00010514259338378906s\n",
      "Elapsed time (fibo): 0.0007739067077636719s\n",
      "Elapsed time (fibo): 9.5367431640625e-07s\n",
      "Elapsed time (fibo): 9.5367431640625e-07s\n",
      "Elapsed time (fibo): 1.621246337890625e-05s\n",
      "Elapsed time (fibo): 9.5367431640625e-07s\n",
      "Elapsed time (fibo): 3.0994415283203125e-05s\n",
      "Elapsed time (fibo): 9.5367431640625e-07s\n",
      "Elapsed time (fibo): 1.1920928955078125e-06s\n",
      "Elapsed time (fibo): 1.5974044799804688e-05s\n",
      "Elapsed time (fibo): 7.009506225585938e-05s\n",
      "Elapsed time (fibo): 0.0s\n",
      "Elapsed time (fibo): 0.0s\n",
      "Elapsed time (fibo): 1.4066696166992188e-05s\n",
      "Elapsed time (fibo): 9.5367431640625e-07s\n",
      "Elapsed time (fibo): 2.8848648071289062e-05s\n",
      "Elapsed time (fibo): 0.00011396408081054688s\n",
      "Elapsed time (fibo): 0.0s\n",
      "Elapsed time (fibo): 0.0s\n",
      "Elapsed time (fibo): 1.2874603271484375e-05s\n",
      "Elapsed time (fibo): 0.0s\n",
      "Elapsed time (fibo): 2.8848648071289062e-05s\n",
      "Elapsed time (fibo): 9.5367431640625e-07s\n",
      "Elapsed time (fibo): 1.1920928955078125e-06s\n",
      "Elapsed time (fibo): 1.621246337890625e-05s\n",
      "Elapsed time (fibo): 5.888938903808594e-05s\n",
      "Elapsed time (fibo): 0.0001900196075439453s\n",
      "Elapsed time (fibo): 0.0009779930114746094s\n",
      "Elapsed time (fibo): 9.5367431640625e-07s\n",
      "Elapsed time (fibo): 0.0s\n",
      "Elapsed time (fibo): 1.5020370483398438e-05s\n",
      "Elapsed time (fibo): 0.0s\n",
      "Elapsed time (fibo): 2.8848648071289062e-05s\n",
      "Elapsed time (fibo): 0.0s\n",
      "Elapsed time (fibo): 9.5367431640625e-07s\n",
      "Elapsed time (fibo): 1.4781951904296875e-05s\n",
      "Elapsed time (fibo): 5.91278076171875e-05s\n",
      "Elapsed time (fibo): 0.0s\n",
      "Elapsed time (fibo): 1.1920928955078125e-06s\n",
      "Elapsed time (fibo): 1.5020370483398438e-05s\n",
      "Elapsed time (fibo): 9.5367431640625e-07s\n",
      "Elapsed time (fibo): 3.0040740966796875e-05s\n",
      "Elapsed time (fibo): 0.000102996826171875s\n",
      "Elapsed time (fibo): 1.1920928955078125e-06s\n",
      "Elapsed time (fibo): 0.0s\n",
      "Elapsed time (fibo): 1.3828277587890625e-05s\n",
      "Elapsed time (fibo): 0.0s\n",
      "Elapsed time (fibo): 2.8848648071289062e-05s\n",
      "Elapsed time (fibo): 0.0s\n",
      "Elapsed time (fibo): 0.0s\n",
      "Elapsed time (fibo): 1.4066696166992188e-05s\n",
      "Elapsed time (fibo): 5.6743621826171875e-05s\n",
      "Elapsed time (fibo): 0.00017523765563964844s\n",
      "Elapsed time (fibo): 0.0s\n",
      "Elapsed time (fibo): 0.0s\n",
      "Elapsed time (fibo): 1.3113021850585938e-05s\n",
      "Elapsed time (fibo): 9.5367431640625e-07s\n",
      "Elapsed time (fibo): 2.8848648071289062e-05s\n",
      "Elapsed time (fibo): 0.0s\n",
      "Elapsed time (fibo): 0.0s\n",
      "Elapsed time (fibo): 1.2874603271484375e-05s\n",
      "Elapsed time (fibo): 5.602836608886719e-05s\n",
      "Elapsed time (fibo): 1.1920928955078125e-06s\n",
      "Elapsed time (fibo): 0.0s\n",
      "Elapsed time (fibo): 1.4066696166992188e-05s\n",
      "Elapsed time (fibo): 0.0s\n",
      "Elapsed time (fibo): 2.7894973754882812e-05s\n",
      "Elapsed time (fibo): 9.989738464355469e-05s\n",
      "Elapsed time (fibo): 0.00028896331787109375s\n",
      "Elapsed time (fibo): 0.00128173828125s\n",
      "Elapsed time (fibo): 0.0s\n",
      "Elapsed time (fibo): 0.0s\n",
      "Elapsed time (fibo): 1.3113021850585938e-05s\n",
      "Elapsed time (fibo): 7.152557373046875e-07s\n",
      "Elapsed time (fibo): 2.8848648071289062e-05s\n",
      "Elapsed time (fibo): 1.1920928955078125e-06s\n",
      "Elapsed time (fibo): 9.5367431640625e-07s\n",
      "Elapsed time (fibo): 1.621246337890625e-05s\n",
      "Elapsed time (fibo): 5.888938903808594e-05s\n",
      "Elapsed time (fibo): 9.5367431640625e-07s\n",
      "Elapsed time (fibo): 1.1920928955078125e-06s\n",
      "Elapsed time (fibo): 1.5974044799804688e-05s\n",
      "Elapsed time (fibo): 0.0s\n",
      "Elapsed time (fibo): 2.9802322387695312e-05s\n",
      "Elapsed time (fibo): 0.00010800361633300781s\n",
      "Elapsed time (fibo): 0.0s\n",
      "Elapsed time (fibo): 0.0s\n",
      "Elapsed time (fibo): 1.3113021850585938e-05s\n",
      "Elapsed time (fibo): 0.0s\n",
      "Elapsed time (fibo): 2.6941299438476562e-05s\n",
      "Elapsed time (fibo): 0.0s\n",
      "Elapsed time (fibo): 9.5367431640625e-07s\n",
      "Elapsed time (fibo): 1.4781951904296875e-05s\n",
      "Elapsed time (fibo): 5.698204040527344e-05s\n",
      "Elapsed time (fibo): 0.00017881393432617188s\n",
      "Elapsed time (fibo): 0.0s\n",
      "Elapsed time (fibo): 0.0s\n",
      "Elapsed time (fibo): 1.4066696166992188e-05s\n",
      "Elapsed time (fibo): 0.0s\n",
      "Elapsed time (fibo): 2.6941299438476562e-05s\n",
      "Elapsed time (fibo): 0.0s\n",
      "Elapsed time (fibo): 0.0s\n",
      "Elapsed time (fibo): 1.3113021850585938e-05s\n",
      "Elapsed time (fibo): 5.602836608886719e-05s\n",
      "Elapsed time (fibo): 0.0s\n",
      "Elapsed time (fibo): 1.1920928955078125e-06s\n",
      "Elapsed time (fibo): 1.52587890625e-05s\n",
      "Elapsed time (fibo): 0.0s\n",
      "Elapsed time (fibo): 2.8133392333984375e-05s\n",
      "Elapsed time (fibo): 9.799003601074219e-05s\n",
      "Elapsed time (fibo): 0.0002918243408203125s\n",
      "Elapsed time (fibo): 0.0s\n",
      "Elapsed time (fibo): 9.5367431640625e-07s\n",
      "Elapsed time (fibo): 1.4781951904296875e-05s\n",
      "Elapsed time (fibo): 0.0s\n",
      "Elapsed time (fibo): 2.7894973754882812e-05s\n",
      "Elapsed time (fibo): 0.0s\n",
      "Elapsed time (fibo): 7.152557373046875e-07s\n",
      "Elapsed time (fibo): 1.5020370483398438e-05s\n",
      "Elapsed time (fibo): 5.7697296142578125e-05s\n",
      "Elapsed time (fibo): 0.0s\n",
      "Elapsed time (fibo): 9.5367431640625e-07s\n",
      "Elapsed time (fibo): 1.4066696166992188e-05s\n",
      "Elapsed time (fibo): 0.0s\n",
      "Elapsed time (fibo): 2.7894973754882812e-05s\n",
      "Elapsed time (fibo): 0.00010085105895996094s\n",
      "Elapsed time (fibo): 0.0s\n",
      "Elapsed time (fibo): 9.5367431640625e-07s\n",
      "Elapsed time (fibo): 1.4066696166992188e-05s\n",
      "Elapsed time (fibo): 9.5367431640625e-07s\n",
      "Elapsed time (fibo): 3.0279159545898438e-05s\n",
      "Elapsed time (fibo): 0.0s\n",
      "Elapsed time (fibo): 1.1920928955078125e-06s\n",
      "Elapsed time (fibo): 1.7881393432617188e-05s\n",
      "Elapsed time (fibo): 6.222724914550781e-05s\n",
      "Elapsed time (fibo): 0.00017690658569335938s\n",
      "Elapsed time (fibo): 0.0004839897155761719s\n",
      "Elapsed time (fibo): 0.0017819404602050781s\n"
     ]
    },
    {
     "data": {
      "text/plain": [
       "55"
      ]
     },
     "execution_count": 25,
     "metadata": {},
     "output_type": "execute_result"
    }
   ],
   "source": [
    "@profile()\n",
    "def fibo(n):\n",
    "    \"\"\"Super inefficient fibo function\"\"\"\n",
    "    if n < 2:\n",
    "        return n\n",
    "    else:\n",
    "        return fibo(n - 1) + fibo(n - 2)\n",
    "\n",
    "\n",
    "fibo(10)"
   ]
  },
  {
   "cell_type": "markdown",
   "id": "ba86550d",
   "metadata": {},
   "source": [
    "#### Recursion support"
   ]
  },
  {
   "cell_type": "code",
   "execution_count": 2,
   "id": "679409a1",
   "metadata": {},
   "outputs": [
    {
     "ename": "NameError",
     "evalue": "name 'functools' is not defined",
     "output_type": "error",
     "traceback": [
      "\u001b[0;31m---------------------------------------------------------------------------\u001b[0m",
      "\u001b[0;31mNameError\u001b[0m                                 Traceback (most recent call last)",
      "Cell \u001b[0;32mIn [2], line 21\u001b[0m\n\u001b[1;32m     15\u001b[0m         \u001b[38;5;28;01mreturn\u001b[39;00m deco\n\u001b[1;32m     17\u001b[0m     \u001b[38;5;28;01mreturn\u001b[39;00m internal\n\u001b[1;32m     20\u001b[0m \u001b[38;5;129;43m@profile\u001b[39;49m\u001b[43m(\u001b[49m\u001b[43m)\u001b[49m\n\u001b[0;32m---> 21\u001b[0m \u001b[38;5;28;43;01mdef\u001b[39;49;00m\u001b[43m \u001b[49m\u001b[38;5;21;43mfibo\u001b[39;49m\u001b[43m(\u001b[49m\u001b[43mn\u001b[49m\u001b[43m)\u001b[49m\u001b[43m:\u001b[49m\n\u001b[1;32m     22\u001b[0m \u001b[43m    \u001b[49m\u001b[38;5;124;43;03m\"\"\"Super inefficient fibo function\"\"\"\u001b[39;49;00m\n\u001b[1;32m     23\u001b[0m \u001b[43m    \u001b[49m\u001b[38;5;28;43;01mif\u001b[39;49;00m\u001b[43m \u001b[49m\u001b[43mn\u001b[49m\u001b[43m \u001b[49m\u001b[38;5;241;43m<\u001b[39;49m\u001b[43m \u001b[49m\u001b[38;5;241;43m2\u001b[39;49m\u001b[43m:\u001b[49m\n",
      "Cell \u001b[0;32mIn [2], line 3\u001b[0m, in \u001b[0;36mprofile.<locals>.internal\u001b[0;34m(f)\u001b[0m\n\u001b[1;32m      2\u001b[0m \u001b[38;5;28;01mdef\u001b[39;00m \u001b[38;5;21minternal\u001b[39m(f):\n\u001b[0;32m----> 3\u001b[0m     \u001b[38;5;129m@functools\u001b[39m\u001b[38;5;241m.\u001b[39mwraps(f)\n\u001b[1;32m      4\u001b[0m     \u001b[38;5;28;01mdef\u001b[39;00m \u001b[38;5;21mdeco\u001b[39m(\u001b[38;5;241m*\u001b[39margs, \u001b[38;5;241m*\u001b[39m\u001b[38;5;241m*\u001b[39mkwargs):\n\u001b[1;32m      5\u001b[0m         start \u001b[38;5;241m=\u001b[39m time\u001b[38;5;241m.\u001b[39mtime()\n\u001b[1;32m      6\u001b[0m         deco\u001b[38;5;241m.\u001b[39m_num_call \u001b[38;5;241m+\u001b[39m\u001b[38;5;241m=\u001b[39m \u001b[38;5;241m1\u001b[39m\n",
      "\u001b[0;31mNameError\u001b[0m: name 'functools' is not defined"
     ]
    }
   ],
   "source": [
    "def profile(msg=\"Elapsed time for function\"):\n",
    "    def internal(f):\n",
    "        @functools.wraps(f)\n",
    "        def deco(*args, **kwargs):\n",
    "            start = time.time()\n",
    "            deco._num_call += 1\n",
    "            result = f(*args, **kwargs)\n",
    "            deco._num_call -= 1\n",
    "\n",
    "            if deco._num_call == 0:\n",
    "                print(msg, f'{f.__name__}: {time.time() - start}s')\n",
    "            return result\n",
    "\n",
    "        deco._num_call = 0\n",
    "        return deco\n",
    "\n",
    "    return internal\n",
    "\n",
    "\n",
    "@profile()\n",
    "def fibo(n):\n",
    "    \"\"\"Super inefficient fibo function\"\"\"\n",
    "    if n < 2:\n",
    "        return n\n",
    "    else:\n",
    "        return fibo(n - 1) + fibo(n - 2)\n",
    "\n",
    "\n",
    "fibo(10)\n",
    "help(fibo)"
   ]
  },
  {
   "cell_type": "markdown",
   "id": "29be77d8",
   "metadata": {},
   "source": [
    "#### Exponential backoff"
   ]
  },
  {
   "cell_type": "code",
   "execution_count": 33,
   "id": "07e6d321",
   "metadata": {},
   "outputs": [
    {
     "name": "stdout",
     "output_type": "stream",
     "text": [
      "Trying to connect:  google.com\n",
      "Failed after 1 times, trying again after 1 sec...\n",
      "Trying to connect:  google.com\n",
      "Failed after 2 times, trying again after 2 sec...\n",
      "Trying to connect:  google.com\n",
      "Failed after 3 times, trying again after 4 sec...\n",
      "Trying to connect:  google.com\n",
      "Failed after 4 times, trying again after 8 sec...\n",
      "Trying to connect:  google.com\n",
      "SUCCESS!\n"
     ]
    }
   ],
   "source": [
    "def repeate(max_repeat=10):\n",
    "    def internal(f):\n",
    "        @functools.wraps(f)\n",
    "        def repeater(*args, **kwargs):\n",
    "            while repeater._num_repeats <= max_repeat:\n",
    "                try:\n",
    "                    return f(*args, **kwargs)\n",
    "                except Exception as ex:\n",
    "                    if repeater._num_repeats == max_repeat:\n",
    "                        raise\n",
    "                    else:\n",
    "                        print(\n",
    "                            f'Failed after {repeater._num_repeats + 1} times, trying again after {2 ** repeater._num_repeats} sec...')\n",
    "                        sleep(2 ** repeater._num_repeats)\n",
    "                        repeater._num_repeats += 1\n",
    "\n",
    "        repeater._num_repeats = 0\n",
    "        return repeater\n",
    "\n",
    "    return internal\n",
    "\n",
    "\n",
    "@repeate(max_repeat=4)\n",
    "# @repeate()\n",
    "# @repeate # note the difference\n",
    "def connect_to_server(*args):\n",
    "    print('Trying to connect: ', *args)\n",
    "    if sum(random.choices([0, 1], [0.8, 0.2])) == 0:\n",
    "        raise RuntimeError('Failed to connect')\n",
    "    print('SUCCESS!')\n",
    "\n",
    "\n",
    "connect_to_server('google.com')"
   ]
  },
  {
   "cell_type": "markdown",
   "id": "a2c1f26c",
   "metadata": {},
   "source": [
    "#### Cache"
   ]
  },
  {
   "cell_type": "code",
   "execution_count": 36,
   "id": "00b05ea3",
   "metadata": {},
   "outputs": [],
   "source": [
    "def cache(f):\n",
    "    @functools.wraps(f)\n",
    "    def deco(*args):\n",
    "        if args in deco._cache:\n",
    "            return deco._cache[args]\n",
    "\n",
    "        result = f(*args)\n",
    "\n",
    "        deco._cache[args] = result\n",
    "\n",
    "        return result\n",
    "\n",
    "    deco._cache = {}\n",
    "\n",
    "    return deco"
   ]
  },
  {
   "cell_type": "code",
   "execution_count": 12,
   "id": "77ac1033",
   "metadata": {},
   "outputs": [],
   "source": [
    "def cache(max_limit=64):\n",
    "    def internal(f):\n",
    "        @functools.wraps(f)\n",
    "        def deco(*args, **kwargs):\n",
    "            cache_key = (args, tuple(kwargs.items()))\n",
    "            if cache_key in deco._cache:\n",
    "                # переносимо в кінець списку\n",
    "                deco._cache.move_to_end(cache_key, last=True)\n",
    "                return deco._cache[cache_key]\n",
    "                print(deco._cache[cache_key])\n",
    "\n",
    "            result = f(*args, **kwargs)\n",
    "            # видаляємо якшо досягли ліміта\n",
    "            if len(deco._cache) >= max_limit:\n",
    "                # видаляємо перший елемент\n",
    "                deco._cache.popitem(last=False)\n",
    "            deco._cache[cache_key] = result\n",
    "            return result\n",
    "            print(result)\n",
    "\n",
    "        deco._cache = OrderedDict()\n",
    "        return deco\n",
    "        print(deco)\n",
    "\n",
    "    return internal\n",
    "    print(internal)"
   ]
  },
  {
   "cell_type": "code",
   "execution_count": 13,
   "id": "3fa55422",
   "metadata": {},
   "outputs": [
    {
     "name": "stdout",
     "output_type": "stream",
     "text": [
      "Elapsed time internal: 1.2159347534179688e-05s\n",
      "Elapsed time internal: 1.3113021850585938e-05s\n",
      "Elapsed time internal: 9.059906005859375e-06s\n",
      "Elapsed time internal: 7.867813110351562e-06s\n",
      "Elapsed time internal: 7.867813110351562e-06s\n",
      "Elapsed time internal: 7.867813110351562e-06s\n",
      "Elapsed time internal: 7.152557373046875e-06s\n"
     ]
    },
    {
     "data": {
      "text/plain": [
       "<function __main__.cache.<locals>.internal.<locals>.deco>"
      ]
     },
     "execution_count": 13,
     "metadata": {},
     "output_type": "execute_result"
    }
   ],
   "source": [
    "# @profile(msg='Elapsed time')\n",
    "# @cache(max_limit=5)\n",
    "@profile(msg='Elapsed time')\n",
    "@cache\n",
    "def fetch_url(url, first_n=100):\n",
    "    \"\"\"Fetch a given url\"\"\"\n",
    "    res = requests.get(url)\n",
    "    return res.content[:first_n] if first_n else res.content\n",
    "fetch_url('https://google.com')\n",
    "fetch_url('https://google.com')\n",
    "fetch_url('https://google.com')\n",
    "fetch_url('https://ithillel.ua')\n",
    "fetch_url('https://dou.ua')\n",
    "fetch_url('https://ain.ua')\n",
    "fetch_url('https://youtube.com')\n",
    "#fetch_url(url='https://reddit.com')\n",
    "#fetch_url._cache"
   ]
  }
 ],
 "metadata": {
  "kernelspec": {
   "display_name": "Python 3 (ipykernel)",
   "language": "python",
   "name": "python3"
  },
  "language_info": {
   "codemirror_mode": {
    "name": "ipython",
    "version": 3
   },
   "file_extension": ".py",
   "mimetype": "text/x-python",
   "name": "python",
   "nbconvert_exporter": "python",
   "pygments_lexer": "ipython3",
   "version": "3.10.6"
  }
 },
 "nbformat": 4,
 "nbformat_minor": 5
}
