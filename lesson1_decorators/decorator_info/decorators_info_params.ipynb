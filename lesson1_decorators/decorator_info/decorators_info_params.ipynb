{
 "cells": [
  {
   "cell_type": "code",
   "execution_count": 1,
   "id": "e4d129a7",
   "metadata": {},
   "outputs": [],
   "source": [
    "import pathlib\n",
    "import os\n",
    "import random\n",
    "import time\n",
    "import timeit\n",
    "import functools\n",
    "from collections import OrderedDict\n",
    "import requests\n",
    "import sys\n",
    "\n",
    "from time import sleep"
   ]
  },
  {
   "cell_type": "markdown",
   "id": "ed7f447b",
   "metadata": {},
   "source": [
    "# Basic information about functions"
   ]
  },
  {
   "cell_type": "markdown",
   "id": "64a4e79d",
   "metadata": {},
   "source": [
    "Named and positional parameters"
   ]
  },
  {
   "cell_type": "code",
   "execution_count": 3,
   "id": "be173528",
   "metadata": {},
   "outputs": [
    {
     "name": "stdout",
     "output_type": "stream",
     "text": [
      "1 2 3\n",
      "1 2 3\n",
      "7 11 -1\n"
     ]
    }
   ],
   "source": [
    "def func(x, y, z):\n",
    "    print(x, y, z)\n",
    "\n",
    "func(1, 2, 3)\n",
    "func(x=1, y=2, z=3)\n",
    "func(x=7, y=11, z=-1)"
   ]
  },
  {
   "cell_type": "markdown",
   "id": "5465e4bc",
   "metadata": {},
   "source": [
    "Сonstants"
   ]
  },
  {
   "cell_type": "code",
   "execution_count": 12,
   "id": "06533bb3",
   "metadata": {},
   "outputs": [
    {
     "name": "stdout",
     "output_type": "stream",
     "text": [
      "SST 11 None\n",
      "xyiz qwerty 1\n",
      "SST 43 None\n",
      "xyz 43 (0, 1)\n"
     ]
    }
   ],
   "source": [
    "def func(x='SST', y=11, z=None):\n",
    "    print(x, y, z)\n",
    "\n",
    "\n",
    "func()\n",
    "func('xyiz', 'qwerty', 1)\n",
    "#func(, 43)\n",
    "func(y=43)\n",
    "func('xyz', 43, (0,1))"
   ]
  },
  {
   "cell_type": "markdown",
   "id": "2cb51be7",
   "metadata": {},
   "source": [
    "Example of using default values"
   ]
  },
  {
   "cell_type": "code",
   "execution_count": 14,
   "id": "e4306456",
   "metadata": {},
   "outputs": [
    {
     "data": {
      "text/plain": [
       "\"class BaseModelForm(BaseForm):\\n    def __init__(self, data=None, files=None, auto_id='id_%s', prefix=None,\\n                 initial=None, error_class=ErrorList, label_suffix=None,\\n                 empty_permitted=False, instance=None, use_required_attribute=None,\\n                 renderer=None):\\n        ...\\n        \\nBaseModelForm(renderer='test')\""
      ]
     },
     "execution_count": 14,
     "metadata": {},
     "output_type": "execute_result"
    }
   ],
   "source": [
    "class BaseModelForm(BaseForm):\n",
    "    def __init__(self, data=None, files=None, auto_id='id_%s', prefix=None,\n",
    "                 initial=None, error_class=ErrorList, label_suffix=None,\n",
    "                 empty_permitted=False, instance=None, use_required_attribute=None,\n",
    "                 renderer=None):\n",
    "        ...\n",
    "        \n",
    "BaseModelForm(renderer='test')"
   ]
  },
  {
   "cell_type": "markdown",
   "id": "86dc695f",
   "metadata": {},
   "source": [
    "### *args"
   ]
  },
  {
   "cell_type": "markdown",
   "id": "08cb8417",
   "metadata": {},
   "source": [
    "Helps to pass any number of positional parameters to a function."
   ]
  },
  {
   "cell_type": "code",
   "execution_count": 22,
   "id": "cb2d49e1",
   "metadata": {},
   "outputs": [
    {
     "name": "stdout",
     "output_type": "stream",
     "text": [
      "()\n",
      "args: ()\n",
      "('xyz',)\n",
      "args: ('xyz',)\n",
      "('xyz', 43, (0, 1))\n",
      "args: ('xyz', 43, (0, 1))\n",
      "(1, 2, 3)\n",
      "args: (1, 2, 3)\n"
     ]
    },
    {
     "data": {
      "text/plain": [
       "(1, 2, 3)"
      ]
     },
     "execution_count": 22,
     "metadata": {},
     "output_type": "execute_result"
    }
   ],
   "source": [
    "def func(*args):\n",
    "    print(args)\n",
    "    print('args:', args)\n",
    "    return args\n",
    "\n",
    "func()\n",
    "func('xyz')\n",
    "func('xyz', 43, (0,1))\n",
    "func(1,2,3)"
   ]
  },
  {
   "cell_type": "code",
   "execution_count": 18,
   "id": "cd36124b",
   "metadata": {},
   "outputs": [
    {
     "name": "stdout",
     "output_type": "stream",
     "text": [
      "<class 'str'>\n",
      "('xyz',)\n",
      "<class 'tuple'>\n",
      "<class 'function'>\n"
     ]
    }
   ],
   "source": [
    "print(type(\"x\"))\n",
    "print(type(func('xyz'))) \n",
    "print(type(func))"
   ]
  },
  {
   "cell_type": "markdown",
   "id": "817fe214",
   "metadata": {},
   "source": [
    "### *args, **kwargs"
   ]
  },
  {
   "cell_type": "markdown",
   "id": "6cfe094e",
   "metadata": {},
   "source": [
    "Helps to pass any number of positional and named parameters"
   ]
  },
  {
   "cell_type": "code",
   "execution_count": 30,
   "id": "dff5ca33",
   "metadata": {},
   "outputs": [
    {
     "name": "stdout",
     "output_type": "stream",
     "text": [
      "args: () , kwargs: {}\n",
      "args: ('xyz',) , kwargs: {}\n",
      "args: ('xyz', 43, (0, 1)) , kwargs: {}\n",
      "args: () , kwargs: {'y': 43, 'x': 45, 'parameter': 45}\n",
      "args: () , kwargs: {'chat_id': 777, 'message': 'Hello world!'}\n"
     ]
    }
   ],
   "source": [
    "def func(*args, **kwargs):\n",
    "    print('args:', args, ', kwargs:', kwargs)\n",
    "\n",
    "\n",
    "func()\n",
    "func('xyz')\n",
    "func('xyz', 43, (0,1))\n",
    "func(y=43, x=45, parameter=45)\n",
    "func(chat_id=777, message='Hello world!')"
   ]
  },
  {
   "cell_type": "markdown",
   "id": "cb1c98be",
   "metadata": {},
   "source": [
    "(x, y, *, z)\n",
    "x, y -> position params\n",
    "z -> reqired named param"
   ]
  },
  {
   "cell_type": "code",
   "execution_count": 43,
   "id": "86df05d0",
   "metadata": {},
   "outputs": [
    {
     "name": "stdout",
     "output_type": "stream",
     "text": [
      "1 2 True\n"
     ]
    }
   ],
   "source": [
    "# keyword args\n",
    "# could be default\n",
    "def func(x, y, *, z):\n",
    "    print(x, y, z)\n",
    "\n",
    "# func(1, 2, 3)    \n",
    "func(1, 2, z=True)\n",
    "    "
   ]
  },
  {
   "cell_type": "markdown",
   "id": "6a931ef1",
   "metadata": {},
   "source": [
    "(x, y, *args, z):\n",
    "x, y -> position\n",
    "*args -> positions any parametres\n",
    "z -> required named"
   ]
  },
  {
   "cell_type": "code",
   "execution_count": 50,
   "id": "2569e2b0",
   "metadata": {},
   "outputs": [
    {
     "name": "stdout",
     "output_type": "stream",
     "text": [
      "1 2 (3, 4, 'SST', 99) 12\n",
      "1 2 () 3\n"
     ]
    }
   ],
   "source": [
    "def func(x, y, *args, z):\n",
    "    print(x, y, args, z)\n",
    "\n",
    "func(1, 2, 3, 4, 'SST', 99, z=12)    \n",
    "func(1,2,z=3)\n",
    "#func(1,2,3,4,5,6,7)"
   ]
  },
  {
   "cell_type": "code",
   "execution_count": 53,
   "id": "3ce229f3",
   "metadata": {},
   "outputs": [
    {
     "name": "stdout",
     "output_type": "stream",
     "text": [
      "['hi', 'bro']\n"
     ]
    }
   ],
   "source": [
    "def append_numbers(a, b):\n",
    "    local_list = []\n",
    "    local_list.append(a)\n",
    "    local_list.append(b)\n",
    "    print(local_list)\n",
    "\n",
    "append_numbers('hi', 'bro')"
   ]
  },
  {
   "cell_type": "code",
   "execution_count": 62,
   "id": "7914b70a",
   "metadata": {},
   "outputs": [
    {
     "name": "stdout",
     "output_type": "stream",
     "text": [
      "I am using validator\n",
      "[7, 9]\n"
     ]
    }
   ],
   "source": [
    "def append_numbers(a, b, *, validator=None):\n",
    "    local_list = []\n",
    "    local_list.append(a)\n",
    "    local_list.append(b)\n",
    "    if validator:\n",
    "        print(\"I am using validator\")\n",
    "    print(local_list) \n",
    "     \n",
    "append_numbers(7, 9, validator=91)"
   ]
  },
  {
   "cell_type": "code",
   "execution_count": 75,
   "id": "79c697d2",
   "metadata": {},
   "outputs": [
    {
     "name": "stdout",
     "output_type": "stream",
     "text": [
      "1 2 3\n"
     ]
    },
    {
     "data": {
      "text/plain": [
       "0.6666666666666666"
      ]
     },
     "execution_count": 75,
     "metadata": {},
     "output_type": "execute_result"
    }
   ],
   "source": [
    "def func(*,x, y, z):\n",
    "    print(x, y, z)\n",
    "\n",
    "def calculate_salary(a, b, c):\n",
    "     return a * b / c \n",
    "func(x=1, y=2, z=3)\n",
    "calculate_salary(a=1, b=2, c=3)\n",
    "calculate_salary(1, 2, 3)"
   ]
  },
  {
   "cell_type": "code",
   "execution_count": 1,
   "id": "0a24e6fb",
   "metadata": {},
   "outputs": [
    {
     "name": "stdout",
     "output_type": "stream",
     "text": [
      "1 2 3\n"
     ]
    }
   ],
   "source": [
    "def func(x, y, z, /):\n",
    "    \n",
    "    print(x, y, z)\n",
    "    \n",
    "func(1,2,3)\n",
    "#func(1,2, z=3)"
   ]
  },
  {
   "cell_type": "code",
   "execution_count": 6,
   "id": "720c5e2f",
   "metadata": {},
   "outputs": [
    {
     "name": "stdout",
     "output_type": "stream",
     "text": [
      "[0]\n"
     ]
    }
   ],
   "source": [
    "# backward compatible\n",
    "# def check_variable(*x, /):\n",
    "    \n",
    "def check_variable(x, /):\n",
    "    if not x:\n",
    "        raise ValueError(f\"should be variable with value\")\n",
    "        print('test')\n",
    "    print(x)\n",
    "\n",
    "check_variable([0])"
   ]
  },
  {
   "cell_type": "code",
   "execution_count": 9,
   "id": "4702892c",
   "metadata": {},
   "outputs": [
    {
     "data": {
      "text/plain": [
       "1"
      ]
     },
     "execution_count": 9,
     "metadata": {},
     "output_type": "execute_result"
    }
   ],
   "source": [
    "def _mod(x, y, /, *, mod):\n",
    "    return (x + y) % mod\n",
    "\n",
    "_mod(3, 33, mod=5)"
   ]
  },
  {
   "cell_type": "markdown",
   "id": "b01892dd",
   "metadata": {},
   "source": [
    "Position is Faster!!!"
   ]
  },
  {
   "cell_type": "code",
   "execution_count": 10,
   "id": "e57ff01a",
   "metadata": {},
   "outputs": [
    {
     "ename": "TypeError",
     "evalue": "can only concatenate str (not \"NoneType\") to str",
     "output_type": "error",
     "traceback": [
      "\u001b[0;31m---------------------------------------------------------------------------\u001b[0m",
      "\u001b[0;31mTypeError\u001b[0m                                 Traceback (most recent call last)",
      "Cell \u001b[0;32mIn [10], line 5\u001b[0m\n\u001b[1;32m      2\u001b[0m \u001b[38;5;28;01mdef\u001b[39;00m \u001b[38;5;21mfunc\u001b[39m(x:\u001b[38;5;28mstr\u001b[39m) \u001b[38;5;241m-\u001b[39m\u001b[38;5;241m>\u001b[39m \u001b[38;5;28;01mNone\u001b[39;00m:\n\u001b[1;32m      3\u001b[0m      \u001b[38;5;28;01mpass\u001b[39;00m\n\u001b[0;32m----> 5\u001b[0m \u001b[43mx1\u001b[49m\u001b[43m \u001b[49m\u001b[38;5;241;43m+\u001b[39;49m\u001b[43m \u001b[49m\u001b[43mfunc\u001b[49m\u001b[43m(\u001b[49m\u001b[38;5;124;43m'\u001b[39;49m\u001b[38;5;124;43m12\u001b[39;49m\u001b[38;5;124;43m'\u001b[39;49m\u001b[43m)\u001b[49m\n",
      "\u001b[0;31mTypeError\u001b[0m: can only concatenate str (not \"NoneType\") to str"
     ]
    }
   ],
   "source": [
    "x1 = '123'\n",
    "def func(x:str) -> None:\n",
    "     pass\n",
    "\n",
    "x1 + func('12')"
   ]
  }
 ],
 "metadata": {
  "kernelspec": {
   "display_name": "Python 3 (ipykernel)",
   "language": "python",
   "name": "python3"
  },
  "language_info": {
   "codemirror_mode": {
    "name": "ipython",
    "version": 3
   },
   "file_extension": ".py",
   "mimetype": "text/x-python",
   "name": "python",
   "nbconvert_exporter": "python",
   "pygments_lexer": "ipython3",
   "version": "3.10.6"
  }
 },
 "nbformat": 4,
 "nbformat_minor": 5
}
