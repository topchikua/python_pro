{
 "cells": [
  {
   "cell_type": "markdown",
   "id": "bd2f4966",
   "metadata": {},
   "source": [
    "# Decorators "
   ]
  },
  {
   "cell_type": "markdown",
   "id": "c7b489a1",
   "metadata": {},
   "source": [
    "Example WITHOUT decorator"
   ]
  },
  {
   "cell_type": "code",
   "execution_count": 5,
   "id": "ba98c602",
   "metadata": {},
   "outputs": [],
   "source": [
    "from datetime import datetime"
   ]
  },
  {
   "cell_type": "code",
   "execution_count": 6,
   "id": "6b0d926e",
   "metadata": {},
   "outputs": [],
   "source": [
    "# Forming a list using an array\n",
    "\n",
    "def one():\n",
    "    start = datetime.now()\n",
    "    l = []\n",
    "    for i in range(10 ** 4):\n",
    "        if i % 2 == 0:\n",
    "            l.append(i)\n",
    "    print(datetime.now() - start)\n",
    "    return l\n",
    "\n",
    "\n",
    "# Forming a list using an generator\n",
    "def two():\n",
    "    start = datetime.now()\n",
    "    l = [x for x in range(10 ** 4) if x % 2 == 0]\n",
    "    print(datetime.now() - start)\n",
    "    return l\n"
   ]
  },
  {
   "cell_type": "code",
   "execution_count": 7,
   "id": "50b83a63",
   "metadata": {},
   "outputs": [
    {
     "name": "stdout",
     "output_type": "stream",
     "text": [
      "0:00:00.000985\n",
      "0:00:00.000775\n"
     ]
    }
   ],
   "source": [
    "l1 = one()\n",
    "l2 = two()\n",
    "#print(l1)"
   ]
  },
  {
   "cell_type": "markdown",
   "id": "ca35512f",
   "metadata": {},
   "source": [
    "Example WITH decorator"
   ]
  },
  {
   "cell_type": "code",
   "execution_count": 8,
   "id": "c7cf0328",
   "metadata": {},
   "outputs": [],
   "source": [
    "# Create Decorator\n",
    "\n",
    "def timeit(func):\n",
    "    def wrapper(*args, **kwargs):\n",
    "        start = datetime.now()\n",
    "        result = func(*args, **kwargs)\n",
    "        print(datetime.now() - start)\n",
    "        return result\n",
    "\n",
    "    return wrapper\n",
    "\n",
    "\n",
    "# Use decorator in: forming a list using an array\n",
    "\n",
    "@timeit\n",
    "def three(n):\n",
    "    l = []\n",
    "    for i in range(n):\n",
    "        if i % 2 == 0:\n",
    "            l.append(i)\n",
    "    return l\n",
    "\n",
    "\n",
    "# Use decorator in: forming a list using an generator\n",
    "\n",
    "@timeit\n",
    "def four(n):\n",
    "    l = [x for x in range(n) if x % 2 == 0]\n",
    "    return l\n"
   ]
  },
  {
   "cell_type": "code",
   "execution_count": 9,
   "id": "749cfdde",
   "metadata": {},
   "outputs": [
    {
     "name": "stdout",
     "output_type": "stream",
     "text": [
      "0:00:00.001126\n",
      "0:00:00.000716\n",
      "0:00:00.000877\n",
      "0:00:00.000793\n"
     ]
    }
   ],
   "source": [
    "l1 = one()\n",
    "l2 = two()\n",
    "#print(l2)\n",
    "l3 = three(10000)\n",
    "l4 = four(10000)\n",
    "#print(l2)\n"
   ]
  },
  {
   "cell_type": "markdown",
   "id": "9b941e38",
   "metadata": {},
   "source": [
    "Assigning functions to variables"
   ]
  },
  {
   "cell_type": "code",
   "execution_count": 10,
   "id": "5f24a7df",
   "metadata": {},
   "outputs": [],
   "source": [
    "def timeit(func):\n",
    "    def wrapper(*args, **kwargs):\n",
    "        start = datetime.now()\n",
    "        result = func(*args, **kwargs)\n",
    "        print(datetime.now() - start)\n",
    "        return result\n",
    "\n",
    "    return wrapper\n",
    "\n",
    "\n",
    "def five(n):\n",
    "    l = []\n",
    "    for i in range(n):\n",
    "        if i % 2 == 0:\n",
    "            l.append(i)\n",
    "    return l\n",
    "\n",
    "\n",
    "def six(n):\n",
    "    l = [x for x in range(n) if x % 2 == 0]\n",
    "    return l\n"
   ]
  },
  {
   "cell_type": "code",
   "execution_count": 11,
   "id": "4fc087e5",
   "metadata": {},
   "outputs": [
    {
     "name": "stdout",
     "output_type": "stream",
     "text": [
      "<class 'function'>\n",
      "[0, 2, 4, 6, 8]\n"
     ]
    }
   ],
   "source": [
    "l1 = five\n",
    "print(type(l1))\n",
    "a = l1(10)\n",
    "print(a)"
   ]
  },
  {
   "cell_type": "code",
   "execution_count": 12,
   "id": "5fd19e53",
   "metadata": {},
   "outputs": [
    {
     "name": "stdout",
     "output_type": "stream",
     "text": [
      "0:00:00.000744\n",
      "0:00:00.001033\n"
     ]
    }
   ],
   "source": [
    "l1 = timeit(six)\n",
    "a = l1(10000)\n",
    "l2 = timeit(five)(10000)"
   ]
  },
  {
   "cell_type": "markdown",
   "id": "20a32823",
   "metadata": {},
   "source": [
    "Decorator with input parameters"
   ]
  },
  {
   "cell_type": "code",
   "execution_count": 13,
   "id": "0ab5807b",
   "metadata": {},
   "outputs": [
    {
     "name": "stdout",
     "output_type": "stream",
     "text": [
      "name\n",
      "name\n",
      "0:00:00.000015\n",
      "[0, 2, 4, 6, 8, 10, 12, 14, 16, 18, 20, 22, 24, 26, 28, 30, 32, 34, 36, 38, 40, 42, 44, 46, 48, 50, 52, 54, 56, 58, 60, 62, 64, 66, 68, 70, 72, 74, 76, 78, 80, 82, 84, 86, 88, 90, 92, 94, 96, 98]\n"
     ]
    }
   ],
   "source": [
    "def timeit(new_param):\n",
    "    print(new_param)\n",
    "\n",
    "    def outer(func):\n",
    "        def wrapper(*args, **kwargs):\n",
    "            start = datetime.now()\n",
    "            result = func(*args, **kwargs)\n",
    "            print(datetime.now() - start)\n",
    "            return result\n",
    "\n",
    "        return wrapper\n",
    "\n",
    "    return outer\n",
    "\n",
    "\n",
    "@timeit('name')\n",
    "def seven(n):\n",
    "    l = []\n",
    "    for i in range(n):\n",
    "        if i % 2 == 0:\n",
    "            l.append(i)\n",
    "    return l\n",
    "\n",
    "\n",
    "@timeit('name')\n",
    "def eight(n):\n",
    "    l = [x for x in range(n) if x % 2 == 0]\n",
    "    return l\n",
    "\n",
    "print(seven(100))"
   ]
  },
  {
   "cell_type": "code",
   "execution_count": 14,
   "id": "102e88d6",
   "metadata": {},
   "outputs": [
    {
     "name": "stdout",
     "output_type": "stream",
     "text": [
      "0:00:00.000008\n",
      "0:00:00.000006\n",
      "name\n",
      "0:00:00.000003\n",
      "0:00:00.000011\n"
     ]
    }
   ],
   "source": [
    "eight(10)\n",
    "seven(10)\n",
    "l1 = timeit('name')(seven)(10)\n",
    "print = l1"
   ]
  },
  {
   "cell_type": "code",
   "execution_count": 15,
   "id": "834d863a",
   "metadata": {},
   "outputs": [
    {
     "ename": "TypeError",
     "evalue": "'list' object is not callable",
     "output_type": "error",
     "traceback": [
      "\u001b[0;31m---------------------------------------------------------------------------\u001b[0m",
      "\u001b[0;31mTypeError\u001b[0m                                 Traceback (most recent call last)",
      "Cell \u001b[0;32mIn [15], line 2\u001b[0m\n\u001b[1;32m      1\u001b[0m \u001b[38;5;129;43m@timeit\u001b[39;49m\n\u001b[0;32m----> 2\u001b[0m \u001b[38;5;28;43;01mdef\u001b[39;49;00m\u001b[43m \u001b[49m\u001b[38;5;21;43msum1\u001b[39;49m\u001b[43m(\u001b[49m\u001b[43ma\u001b[49m\u001b[43m,\u001b[49m\u001b[43m \u001b[49m\u001b[43mb\u001b[49m\u001b[43m,\u001b[49m\u001b[43m \u001b[49m\u001b[38;5;241;43m/\u001b[39;49m\u001b[43m)\u001b[49m\u001b[43m:\u001b[49m\n\u001b[1;32m      3\u001b[0m \u001b[43m    \u001b[49m\u001b[38;5;28;43;01mreturn\u001b[39;49;00m\u001b[43m \u001b[49m\u001b[43ma\u001b[49m\u001b[43m \u001b[49m\u001b[38;5;241;43m+\u001b[39;49m\u001b[43m \u001b[49m\u001b[43mb\u001b[49m\n\u001b[1;32m      6\u001b[0m \u001b[38;5;129m@timeit\u001b[39m\n\u001b[1;32m      7\u001b[0m \u001b[38;5;28;01mdef\u001b[39;00m \u001b[38;5;21msum2\u001b[39m(\u001b[38;5;241m*\u001b[39m, a, b):\n",
      "Cell \u001b[0;32mIn [13], line 2\u001b[0m, in \u001b[0;36mtimeit\u001b[0;34m(new_param)\u001b[0m\n\u001b[1;32m      1\u001b[0m \u001b[38;5;28;01mdef\u001b[39;00m \u001b[38;5;21mtimeit\u001b[39m(new_param):\n\u001b[0;32m----> 2\u001b[0m     \u001b[38;5;28;43mprint\u001b[39;49m\u001b[43m(\u001b[49m\u001b[43mnew_param\u001b[49m\u001b[43m)\u001b[49m\n\u001b[1;32m      4\u001b[0m     \u001b[38;5;28;01mdef\u001b[39;00m \u001b[38;5;21mouter\u001b[39m(func):\n\u001b[1;32m      5\u001b[0m         \u001b[38;5;28;01mdef\u001b[39;00m \u001b[38;5;21mwrapper\u001b[39m(\u001b[38;5;241m*\u001b[39margs, \u001b[38;5;241m*\u001b[39m\u001b[38;5;241m*\u001b[39mkwargs):\n",
      "\u001b[0;31mTypeError\u001b[0m: 'list' object is not callable"
     ]
    }
   ],
   "source": [
    "@timeit\n",
    "def sum1(a, b, /):\n",
    "    return a + b\n",
    "\n",
    "\n",
    "@timeit\n",
    "def sum2(*, a, b):\n",
    "    return a + b\n",
    "\n",
    "\n",
    "sum1(3, 4)\n",
    "sum2(a=3, b=4)"
   ]
  }
 ],
 "metadata": {
  "kernelspec": {
   "display_name": "Python 3 (ipykernel)",
   "language": "python",
   "name": "python3"
  },
  "language_info": {
   "codemirror_mode": {
    "name": "ipython",
    "version": 3
   },
   "file_extension": ".py",
   "mimetype": "text/x-python",
   "name": "python",
   "nbconvert_exporter": "python",
   "pygments_lexer": "ipython3",
   "version": "3.10.6"
  }
 },
 "nbformat": 4,
 "nbformat_minor": 5
}
