{
 "cells": [
  {
   "cell_type": "code",
   "execution_count": 62,
   "id": "11943627",
   "metadata": {},
   "outputs": [],
   "source": [
    "import pathlib\n",
    "import os\n",
    "import random\n",
    "import time\n",
    "import timeit\n",
    "import functools\n",
    "from collections import OrderedDict\n",
    "import requests\n",
    "import sys\n",
    "\n",
    "from time import sleep"
   ]
  },
  {
   "cell_type": "markdown",
   "id": "40b78ad6",
   "metadata": {},
   "source": [
    "# Everything is an object, so is a function"
   ]
  },
  {
   "cell_type": "code",
   "execution_count": 2,
   "id": "acce1772",
   "metadata": {},
   "outputs": [
    {
     "name": "stdout",
     "output_type": "stream",
     "text": [
      "abc 42 None\n"
     ]
    }
   ],
   "source": [
    "def func(x='abc', y=42, z=None):\n",
    "    print(x, y, z)\n",
    "\n",
    "func1 = func\n",
    "type(func1)\n",
    "func1()"
   ]
  },
  {
   "cell_type": "code",
   "execution_count": 3,
   "id": "49d222dd",
   "metadata": {
    "scrolled": true
   },
   "outputs": [
    {
     "name": "stdout",
     "output_type": "stream",
     "text": [
      "4525258304 4525258304\n",
      "abc 42 None\n"
     ]
    }
   ],
   "source": [
    "print(id(func1), id(func))\n",
    "func1()"
   ]
  },
  {
   "cell_type": "markdown",
   "id": "2970aeb8",
   "metadata": {},
   "source": [
    "#### Memory id for variables"
   ]
  },
  {
   "cell_type": "code",
   "execution_count": 5,
   "id": "e2ed0b43",
   "metadata": {},
   "outputs": [
    {
     "name": "stdout",
     "output_type": "stream",
     "text": [
      "50\n",
      "4471423280\n",
      "4471424784\n",
      "4471424784\n"
     ]
    }
   ],
   "source": [
    "a = 50 \n",
    "b = a\n",
    "c = b\n",
    "a = 3\n",
    "print(c)\n",
    "print(id(a))\n",
    "print(id(b))\n",
    "print(id(c))"
   ]
  },
  {
   "cell_type": "markdown",
   "id": "7cf02465",
   "metadata": {},
   "source": [
    "#### Functions!!!"
   ]
  },
  {
   "cell_type": "code",
   "execution_count": 9,
   "id": "ddbf2212",
   "metadata": {},
   "outputs": [
    {
     "name": "stdout",
     "output_type": "stream",
     "text": [
      "Hello from foo\n",
      "Hello from bar\n",
      "Hello from foo\n"
     ]
    }
   ],
   "source": [
    "def func(f):\n",
    "    f()\n",
    "\n",
    "def foo():\n",
    "    print('Hello from foo')\n",
    "\n",
    "def bar():\n",
    "    print('Hello from bar')\n",
    "\n",
    "func(foo)\n",
    "func(bar)"
   ]
  },
  {
   "cell_type": "code",
   "execution_count": 15,
   "id": "345cbbc4",
   "metadata": {},
   "outputs": [
    {
     "name": "stdout",
     "output_type": "stream",
     "text": [
      "Returning func f\n",
      "<class 'function'>\n",
      "Hello from foo\n",
      "Hello from foo\n"
     ]
    }
   ],
   "source": [
    "def foo():\n",
    "    print('Hello from foo')\n",
    "\n",
    "# transparent \n",
    "def func(f):\n",
    "    print(\"Returning func f\")\n",
    "    return f\n",
    "\n",
    "result = func(foo)\n",
    "print(type(result))\n",
    "foo()\n",
    "result()"
   ]
  },
  {
   "cell_type": "code",
   "execution_count": 19,
   "id": "1d4a01db",
   "metadata": {},
   "outputs": [
    {
     "name": "stdout",
     "output_type": "stream",
     "text": [
      "Hello from internal\n"
     ]
    }
   ],
   "source": [
    "def hello_factory():\n",
    "    def internal():\n",
    "        print('Hello from internal')\n",
    "    return internal\n",
    "\n",
    "func = hello_factory()\n",
    "func()\n",
    "# internal()"
   ]
  },
  {
   "cell_type": "code",
   "execution_count": 30,
   "id": "dac17b97",
   "metadata": {},
   "outputs": [
    {
     "name": "stdout",
     "output_type": "stream",
     "text": [
      "Hello from foo\n",
      "internal\n",
      "Hello from foo\n"
     ]
    }
   ],
   "source": [
    "def transparent_factory(f):\n",
    "    def internal():\n",
    "        f()       \n",
    "    return internal\n",
    "\n",
    "foo_transparent = transparent_factory(foo)\n",
    "foo_transparent()\n",
    "print(foo_transparent.__name__)\n",
    "foo()"
   ]
  },
  {
   "cell_type": "code",
   "execution_count": 52,
   "id": "1b469f3a",
   "metadata": {},
   "outputs": [
    {
     "name": "stdout",
     "output_type": "stream",
     "text": [
      "internal\n",
      ">>> Is about to call 'foo'\n",
      "\n",
      "Hello from foo\n",
      "\n",
      ">>> Just called 'foo'\n"
     ]
    }
   ],
   "source": [
    "def hello_factory_2(f):\n",
    "    def internal():\n",
    "        print(f\">>> Is about to call '{f.__name__}'\\n\")\n",
    "        f()\n",
    "        print(f\"\\n>>> Just called '{f.__name__}'\")\n",
    "        \n",
    "    return internal\n",
    "\n",
    "foo_verbosed = hello_factory_2(foo)\n",
    "print(foo_verbosed.__name__)\n",
    "#internal()\n",
    "foo_verbosed()\n",
    "\n",
    "#foo()"
   ]
  },
  {
   "cell_type": "code",
   "execution_count": 69,
   "id": "cf3bfb95",
   "metadata": {},
   "outputs": [
    {
     "name": "stdout",
     "output_type": "stream",
     "text": [
      "Hello from foo\n",
      "Elapsed time: 2.0001649856567383s\n",
      "Hello from foo\n"
     ]
    }
   ],
   "source": [
    "def foo():\n",
    "    time.sleep(2)\n",
    "    print('Hello from foo')\n",
    "\n",
    "def profile(f):\n",
    "    def internal():\n",
    "        start = time.time()\n",
    "        f()\n",
    "        finish = time.time()\n",
    "        print(f'Elapsed time: {finish - start}s')\n",
    "    return internal\n",
    "\n",
    "foo_profiled = profile(foo)\n",
    "foo_profiled()\n",
    "\n",
    "foo()"
   ]
  },
  {
   "cell_type": "markdown",
   "id": "40ca3105",
   "metadata": {},
   "source": [
    "# Decorators"
   ]
  },
  {
   "cell_type": "markdown",
   "id": "2b478285",
   "metadata": {},
   "source": [
    "####  D. is a function that adds some additional functionality, typically not changing original behaviour. "
   ]
  },
  {
   "cell_type": "markdown",
   "id": "afedac85",
   "metadata": {},
   "source": [
    "<img src=https://d33wubrfki0l68.cloudfront.net/12c8a296cc396d418b5407a4a4c6f9fd7d85f597/e8a54/wp-content/uploads/2018/06/python-decorator.png>"
   ]
  },
  {
   "cell_type": "code",
   "execution_count": 79,
   "id": "ea5985f6",
   "metadata": {},
   "outputs": [
    {
     "name": "stdout",
     "output_type": "stream",
     "text": [
      "Hello from foo\n",
      "Elapsed time (foo): 2.002146005630493s\n"
     ]
    }
   ],
   "source": [
    "def profile(f):\n",
    "    def internal():\n",
    "        start = time.time()\n",
    "        f()\n",
    "        print(f'Elapsed time ({f.__name__}): {time.time() - start}s')\n",
    "    return internal\n",
    "\n",
    "foo_profiled = profile(foo)\n",
    "foo_profiled()"
   ]
  },
  {
   "cell_type": "code",
   "execution_count": 103,
   "id": "2d2b0e86",
   "metadata": {},
   "outputs": [],
   "source": [
    "def fetch_url():\n",
    "    res = requests.get('https://google.com')\n",
    "    print('Content: \\t', res.content[:100])"
   ]
  },
  {
   "cell_type": "code",
   "execution_count": 104,
   "id": "98340d33",
   "metadata": {},
   "outputs": [
    {
     "name": "stdout",
     "output_type": "stream",
     "text": [
      "Content: \t b'<!doctype html><html itemscope=\"\" itemtype=\"http://schema.org/WebPage\" lang=\"uk\"><head><meta content'\n",
      "Elapsed time (fetch_url): 0.31726694107055664s\n"
     ]
    }
   ],
   "source": [
    "fetch_url_profiled = profile(fetch_url)\n",
    "fetch_url_profiled()"
   ]
  },
  {
   "cell_type": "markdown",
   "id": "e174576e",
   "metadata": {},
   "source": [
    "####  We measure the time to get the first 100 characters on different sites"
   ]
  },
  {
   "cell_type": "code",
   "execution_count": 108,
   "id": "ff2bbdaf",
   "metadata": {},
   "outputs": [
    {
     "name": "stdout",
     "output_type": "stream",
     "text": [
      "\n",
      "Content for \"https://google.com\":\t  b'<!doctype html><html itemscope=\"\" itemtype=\"http://schema.org/WebPage\" lang=\"uk\"><head><meta content'\n",
      "\n",
      "Elapsed time (fetch_url): 0.36908483505249023s\n",
      "\n",
      "Content for \"https://ithillel.ua\":\t  b'\\xef\\xbb\\xbf\\n\\n\\n\\n\\n\\t\\n\\t\\t\\n\\t\\t\\t\\n\\t\\t\\n\\t\\t\\n\\t\\n\\t\\n\\t\\n\\n\\n\\n\\n\\n        \\n    \\t\\t\\t\\t\\n\\n        \\n\\t<!DOCTYPE html>\\n\\t<html lang=\"uk\">\\n\\t<h'\n",
      "\n",
      "Elapsed time (fetch_url): 0.20659780502319336s\n",
      "\n",
      "Content for \"https://lms.ithillel.ua\":\t  b'<!DOCTYPE html><html lang=\"uk\"><head>\\n    <meta charset=\"utf-8\">\\n    <meta name=\"viewport\" content=\"'\n",
      "\n",
      "Elapsed time (fetch_url): 0.18631196022033691s\n"
     ]
    }
   ],
   "source": [
    "def fetch_url(url):\n",
    "    res = requests.get(url)\n",
    "    print(f'\\nContent for \"{url}\":\\t ', res.content[:100])\n",
    "\n",
    "def profile(f):\n",
    "    def internal(url):\n",
    "        start = time.time()\n",
    "        f(url)\n",
    "        print(f'\\nElapsed time ({f.__name__}): {time.time() - start}s')\n",
    "    return internal\n",
    "\n",
    "fetch_url_profiled = profile(fetch_url)\n",
    "fetch_url_profiled('https://google.com')\n",
    "fetch_url_profiled('https://ithillel.ua')\n",
    "fetch_url_profiled('https://lms.ithillel.ua')"
   ]
  },
  {
   "cell_type": "code",
   "execution_count": 109,
   "id": "48b4de13",
   "metadata": {},
   "outputs": [
    {
     "name": "stdout",
     "output_type": "stream",
     "text": [
      "\n",
      "Content for \"https://ithillel.ua\":\t  b'\\xef\\xbb\\xbf\\n\\n\\n\\n\\n\\t\\n\\t\\t\\n\\t\\t\\t\\n\\t\\t\\n\\t\\t\\n\\t\\n\\t\\n\\t\\n\\n\\n\\n\\n\\n        \\n    \\t\\t\\t\\t\\n\\n        \\n\\t<!DOCTYPE html>\\n\\t<html lang=\"uk\">\\n\\t<h'\n",
      "Elapsed time (fetch_url): 0.2108161449432373s\n"
     ]
    }
   ],
   "source": [
    "def profile(f):\n",
    "    def internal(*args):\n",
    "        start = time.time()\n",
    "        f(*args)\n",
    "        print(f'Elapsed time ({f.__name__}): {time.time() - start}s')\n",
    "    return internal\n",
    "\n",
    "fetch_url = profile(fetch_url)\n",
    "fetch_url('https://ithillel.ua')"
   ]
  },
  {
   "cell_type": "code",
   "execution_count": 124,
   "id": "526ef70d",
   "metadata": {},
   "outputs": [
    {
     "name": "stdout",
     "output_type": "stream",
     "text": [
      "\n",
      "Content for \"https://ithillel.ua\":\t  b'\\xef\\xbb\\xbf\\n\\n\\n\\n\\n\\t\\n\\t\\t\\n\\t\\t\\t\\n\\t\\t\\n\\t\\t\\n\\t\\n\\t\\n\\t\\n\\n\\n\\n\\n\\n        '\n",
      "Elapsed time (fetch_url): 0.19959020614624023s\n",
      "\n",
      "Content for \"https://ithillel.ua\":\t  b'\\xef\\xbb\\xbf\\n\\n\\n\\n\\n\\t\\n\\t\\t\\n\\t\\t\\t\\n\\t\\t\\n\\t\\t\\n\\t\\n\\t\\n\\t\\n\\n\\n\\n\\n\\n        \\n    \\t\\t\\t\\t\\n\\n        \\n\\t<!DOCTYPE html>\\n\\t<html lang=\"uk\">\\n\\t<h'\n",
      "Elapsed time (fetch_url): 0.21468114852905273s\n",
      "\n",
      "Content for \"https://ithillel.ua\":\t  b'\\xef\\xbb\\xbf\\n\\n\\n\\n\\n\\t\\n\\t\\t\\n\\t\\t\\t\\n\\t\\t\\n\\t\\t\\n\\t\\n\\t\\n\\t\\n\\n\\n\\n\\n\\n        \\n    \\t\\t\\t\\t\\n\\n        \\n\\t<!DOCTYPE html>\\n\\t<html lang=\"uk\">\\n\\t<head>\\n\\n\\t\\t<link rel=\"preload\" href=\"https://assets.ithillel.ua/fonts/solomon_sans_normal.woff2\" as=\"font\" type=\"font/woff2\" crossorigin=\"anonymous\">\\n<link rel=\"preload\" href=\"https://assets.ithillel.ua/fonts/solomon_sans_semibold.woff2\" as=\"font\" type=\"font/woff2\" crossorigin=\"anonymous\">\\n<link rel=\"preload\" href=\"https://assets.ithillel.ua/fonts/solomon_sans_bold.woff2\" as=\"font\" type=\"font/woff2\" crossorigin=\"anonymous\">\\n\\n<link rel=\"preconnect\" href=\"https://google-analytics.bi.owox.com\">\\n<link rel=\"preconnect\" href=\"https://s.ytimg.com\">\\n<link rel=\"preconnect\" href=\"https://www.google.com.ua\" crossorigin=\"anonymous\">\\n<link rel=\"preconnect\" href=\"https://www.google.com\">\\n<link rel=\"preconnect\" href=\"https://www.googleadservices.com\">\\n<link rel=\"preconnect\" href=\"https://www.googletagmanager.com\">\\n<link rel=\"preconnect\" href=\"https://www.google-analytics.com\" crossorigin=\"anonymous\">\\n<link rel=\"preconnect\" href='\n",
      "Elapsed time (fetch_url): 0.19799494743347168s\n"
     ]
    }
   ],
   "source": [
    "def fetch_url(url, first_n=None):\n",
    "    res = requests.get(url)\n",
    "    print(f'\\nContent for \"{url}\":\\t ', res.content[:first_n] if first_n else res.content)\n",
    "\n",
    "def profile(f):\n",
    "    def internal(*args, **kwargs):\n",
    "        start = time.time()\n",
    "        f(*args, **kwargs)\n",
    "        print(f'Elapsed time ({f.__name__}): {time.time() - start}s')\n",
    "    return internal\n",
    "\n",
    "fetch_url = profile(fetch_url)\n",
    "#fetch_url('https://ithillel.ua')\n",
    "fetch_url('https://ithillel.ua', first_n=42)\n",
    "fetch_url('https://ithillel.ua', first_n=100)\n",
    "fetch_url('https://ithillel.ua', first_n=1024)"
   ]
  },
  {
   "cell_type": "code",
   "execution_count": 125,
   "id": "8f65e131",
   "metadata": {},
   "outputs": [
    {
     "name": "stdout",
     "output_type": "stream",
     "text": [
      "Elapsed time (fetch_url): 0.23211216926574707s\n"
     ]
    }
   ],
   "source": [
    "def fetch_url(url, first_n=100):\n",
    "    res = requests.get(url)\n",
    "    return res.content[:first_n] if first_n else res.content\n",
    "\n",
    "fetch_url = profile(fetch_url)\n",
    "with open('content.html', 'w+') as f:\n",
    "    f.write(str(fetch_url('https://ithillel.ua', first_n=42)))\n",
    "\n",
    "# cat /tmp/content.html\n"
   ]
  },
  {
   "cell_type": "code",
   "execution_count": 127,
   "id": "70cadf4e",
   "metadata": {},
   "outputs": [
    {
     "name": "stdout",
     "output_type": "stream",
     "text": [
      "Elapsed time for function fetch_url with params ('https://ithillel.ua',), {'first_n': 42}: 0.2088780403137207ms\n"
     ]
    }
   ],
   "source": [
    "def fetch_url(url, first_n=100):\n",
    "    res = requests.get(url)\n",
    "    return res.content[:first_n] if first_n else res.content \n",
    "\n",
    "def profile(f):\n",
    "    def internal(*args, **kwargs):\n",
    "        start = time.time()\n",
    "        result = f(*args, **kwargs)\n",
    "        print(f'Elapsed time for function {f.__name__} with params {args}, {kwargs}: {time.time() - start}ms')\n",
    "        return result\n",
    "    return internal\n",
    "\n",
    "fetch_url = profile(fetch_url)\n",
    "with open('content_1.html', 'w+') as f:\n",
    "    f.write(str(fetch_url('https://ithillel.ua', first_n=42)))"
   ]
  },
  {
   "cell_type": "markdown",
   "id": "a5766a90",
   "metadata": {},
   "source": [
    "####  Syntactic sugar"
   ]
  },
  {
   "cell_type": "code",
   "execution_count": 128,
   "id": "2d56056d",
   "metadata": {},
   "outputs": [
    {
     "name": "stdout",
     "output_type": "stream",
     "text": [
      "Elapsed time for function fetch_url with params ('https://ithillel.ua',), {'first_n': 42}: 0.24674105644226074ms\n",
      "b'\\xef\\xbb\\xbf\\n\\n\\n\\n\\n\\t\\n\\t\\t\\n\\t\\t\\t\\n\\t\\t\\n\\t\\t\\n\\t\\n\\t\\n\\t\\n\\n\\n\\n\\n\\n        '\n",
      "Elapsed time for function fetch_url with params ('https://google.com',), {}: 0.3575930595397949ms\n",
      "b'<!doctype html><html itemscope=\"\" itemtype=\"http://schema.org/WebPage\" lang=\"uk\"><head><meta content'\n"
     ]
    }
   ],
   "source": [
    "@profile # -> fetch_url = profile(fetch_url)\n",
    "def fetch_url(url, first_n=100):\n",
    "    res = requests.get(url)\n",
    "    return res.content[:first_n] if first_n else res.content\n",
    "    \n",
    "print(fetch_url('https://ithillel.ua', first_n=42))\n",
    "print(fetch_url('https://google.com'))"
   ]
  },
  {
   "cell_type": "markdown",
   "id": "a06bef06",
   "metadata": {},
   "source": [
    "####  doc_string"
   ]
  },
  {
   "cell_type": "code",
   "execution_count": 129,
   "id": "10390b1b",
   "metadata": {},
   "outputs": [
    {
     "name": "stdout",
     "output_type": "stream",
     "text": [
      "Help on function test in module __main__:\n",
      "\n",
      "test(a, b)\n",
      "    This function is make sum of two int\n",
      "\n"
     ]
    }
   ],
   "source": [
    "def test(a, b):\n",
    "    \"\"\" This function is make sum of two int \"\"\"\n",
    "    return a+b\n",
    "\n",
    "help(test)"
   ]
  },
  {
   "cell_type": "code",
   "execution_count": 137,
   "id": "c1627394",
   "metadata": {},
   "outputs": [
    {
     "name": "stdout",
     "output_type": "stream",
     "text": [
      "Help on function internal in module __main__:\n",
      "\n",
      "internal(*args, **kwargs)\n",
      "\n"
     ]
    }
   ],
   "source": [
    "def profile(f):\n",
    "    def internal(*args, **kwargs):\n",
    "        start = time.time()\n",
    "        result = f(*args, **kwargs)\n",
    "        print(f'Elapsed time for function {f.__name__} with params {args}, {kwargs}: {time.time() - start}ms')\n",
    "        return result\n",
    "    return internal\n",
    "\n",
    "\n",
    "@profile\n",
    "def fetch_url(url, first_n=100):\n",
    "    \"\"\"Fetch a given url\"\"\"\n",
    "    res = requests.get(url)\n",
    "    return res.content[:first_n] if first_n else res.content\n",
    "\n",
    "help(fetch_url)"
   ]
  },
  {
   "cell_type": "code",
   "execution_count": 138,
   "id": "237ec998",
   "metadata": {},
   "outputs": [
    {
     "name": "stdout",
     "output_type": "stream",
     "text": [
      "Help on function fetch_url in module __main__:\n",
      "\n",
      "fetch_url(url, first_n=100)\n",
      "    Fetch a given url\n",
      "\n"
     ]
    }
   ],
   "source": [
    "def profile(f):\n",
    "    @functools.wraps(f)\n",
    "    def internal(*args, **kwargs):\n",
    "        start = time.time()\n",
    "        result = f(*args, **kwargs)\n",
    "        print(f'Elapsed time for function {f.__name__} with params {args}, {kwargs}: {time.time() - start}ms')\n",
    "        return result\n",
    "    return internal\n",
    "\n",
    "\n",
    "@profile\n",
    "def fetch_url(url, first_n=100):\n",
    "    \"\"\"Fetch a given url\"\"\"\n",
    "    res = requests.get(url)\n",
    "    return res.content[:first_n] if first_n else res.content\n",
    "\n",
    "\n",
    "help(fetch_url)"
   ]
  },
  {
   "cell_type": "code",
   "execution_count": 139,
   "id": "96f7c99b",
   "metadata": {},
   "outputs": [],
   "source": [
    "def profile(msg='Elapsed time'):\n",
    "    def internal(f):\n",
    "        @functools.wraps(f)\n",
    "        def deco(*args, **kwargs):\n",
    "            start = time.time()\n",
    "            result = f(*args, **kwargs)\n",
    "            print(msg, f'({f.__name__}): {time.time() - start}s')\n",
    "            return result\n",
    "        return deco\n",
    "    return internal"
   ]
  },
  {
   "cell_type": "code",
   "execution_count": 144,
   "id": "4da895f4",
   "metadata": {},
   "outputs": [
    {
     "name": "stdout",
     "output_type": "stream",
     "text": [
      "час пройшов (fetch_url): 0.35432910919189453s\n",
      "Elapsed time (fetch_url): 0.34512782096862793s\n"
     ]
    },
    {
     "data": {
      "text/plain": [
       "b'<!doctype html><html itemscope=\"\" itemtype=\"http://schema.org/WebPage\" lang=\"uk\"><head><meta content'"
      ]
     },
     "execution_count": 144,
     "metadata": {},
     "output_type": "execute_result"
    }
   ],
   "source": [
    "@profile(msg='час пройшов')\n",
    "def fetch_url(url, first_n=100):\n",
    "    \"\"\"Fetch a given url\"\"\"\n",
    "    res = requests.get(url)\n",
    "    return res.content[:first_n] if first_n else res.content\n",
    "\n",
    "fetch_url('https://google.com')\n",
    "    \n",
    "@profile(msg='Elapsed time')\n",
    "def fetch_url(url, first_n=100):\n",
    "    \"\"\"Fetch a given url\"\"\"\n",
    "    res = requests.get(url)\n",
    "    return res.content[:first_n] if first_n else res.content\n",
    "\n",
    "fetch_url('https://google.com')"
   ]
  },
  {
   "cell_type": "code",
   "execution_count": 145,
   "id": "d0e88640",
   "metadata": {},
   "outputs": [
    {
     "name": "stdout",
     "output_type": "stream",
     "text": [
      "Help on function foo in module __main__:\n",
      "\n",
      "foo()\n",
      "    Help for foo\n",
      "\n",
      "Elapsed time (foo): 9.5367431640625e-07s\n",
      "RESULT:  42\n"
     ]
    }
   ],
   "source": [
    "@profile('Elapsed time') # -> profile_ = profile('Time spent')\n",
    "                         # -> foo5 = profile_(foo5)\n",
    "def foo():\n",
    "    \"\"\"Help for foo\"\"\"\n",
    "    return 42\n",
    "\n",
    "help(foo)\n",
    "print(\"RESULT: \", foo())"
   ]
  }
 ],
 "metadata": {
  "kernelspec": {
   "display_name": "Python 3 (ipykernel)",
   "language": "python",
   "name": "python3"
  },
  "language_info": {
   "codemirror_mode": {
    "name": "ipython",
    "version": 3
   },
   "file_extension": ".py",
   "mimetype": "text/x-python",
   "name": "python",
   "nbconvert_exporter": "python",
   "pygments_lexer": "ipython3",
   "version": "3.10.6"
  }
 },
 "nbformat": 4,
 "nbformat_minor": 5
}
