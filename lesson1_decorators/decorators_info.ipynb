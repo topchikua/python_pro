{
 "cells": [
  {
   "cell_type": "markdown",
   "id": "bd2f4966",
   "metadata": {},
   "source": [
    "# Decorators "
   ]
  },
  {
   "cell_type": "markdown",
   "id": "c7b489a1",
   "metadata": {},
   "source": [
    "Example WITHOUT decorator"
   ]
  },
  {
   "cell_type": "code",
   "execution_count": 14,
   "id": "ba98c602",
   "metadata": {},
   "outputs": [],
   "source": [
    "from datetime import datetime"
   ]
  },
  {
   "cell_type": "code",
   "execution_count": 15,
   "id": "6b0d926e",
   "metadata": {},
   "outputs": [],
   "source": [
    "# Forming a list using an array\n",
    "\n",
    "def one():\n",
    "    start = datetime.now()\n",
    "    l = []\n",
    "    for i in range(10 ** 4):\n",
    "        if i % 2 == 0:\n",
    "            l.append(i)\n",
    "    print(datetime.now() - start)\n",
    "    return l\n",
    "\n",
    "\n",
    "# Forming a list using an generator\n",
    "def two():\n",
    "    start = datetime.now()\n",
    "    l = [x for x in range(10 ** 4) if x % 2 == 0]\n",
    "    print(datetime.now() - start)\n",
    "    return l\n"
   ]
  },
  {
   "cell_type": "code",
   "execution_count": 27,
   "id": "50b83a63",
   "metadata": {},
   "outputs": [
    {
     "name": "stdout",
     "output_type": "stream",
     "text": [
      "0:00:00.000843\n",
      "0:00:00.000656\n"
     ]
    }
   ],
   "source": [
    "l1 = one()\n",
    "l2 = two()\n",
    "#print(l1)"
   ]
  },
  {
   "cell_type": "markdown",
   "id": "ca35512f",
   "metadata": {},
   "source": [
    "Example WITH decorator"
   ]
  },
  {
   "cell_type": "code",
   "execution_count": 5,
   "id": "c7cf0328",
   "metadata": {},
   "outputs": [],
   "source": [
    "# Create Decorator\n",
    "\n",
    "def timeit(func):\n",
    "    def wrapper(*args, **kwargs):\n",
    "        start = datetime.now()\n",
    "        result = func(*args, **kwargs)\n",
    "        print(datetime.now() - start)\n",
    "        return result\n",
    "\n",
    "    return wrapper\n",
    "\n",
    "\n",
    "# Use decorator in: forming a list using an array\n",
    "\n",
    "@timeit\n",
    "def three(n):\n",
    "    l = []\n",
    "    for i in range(n):\n",
    "        if i % 2 == 0:\n",
    "            l.append(i)\n",
    "    return l\n",
    "\n",
    "\n",
    "# Use decorator in: forming a list using an generator\n",
    "\n",
    "@timeit\n",
    "def four(n):\n",
    "    l = [x for x in range(n) if x % 2 == 0]\n",
    "    return l\n"
   ]
  },
  {
   "cell_type": "code",
   "execution_count": 15,
   "id": "749cfdde",
   "metadata": {},
   "outputs": [
    {
     "name": "stdout",
     "output_type": "stream",
     "text": [
      "0:00:00.000926\n",
      "0:00:00.000733\n",
      "0:00:00.000867\n",
      "0:00:00.000680\n"
     ]
    }
   ],
   "source": [
    "l1 = one()\n",
    "l2 = two()\n",
    "#print(l2)\n",
    "l3 = three(10000)\n",
    "l4 = four(10000)\n",
    "#print(l2)\n"
   ]
  },
  {
   "cell_type": "markdown",
   "id": "9b941e38",
   "metadata": {},
   "source": [
    "Assigning functions to variables"
   ]
  },
  {
   "cell_type": "code",
   "execution_count": 18,
   "id": "5f24a7df",
   "metadata": {},
   "outputs": [],
   "source": [
    "def timeit(func):\n",
    "    def wrapper(*args, **kwargs):\n",
    "        start = datetime.now()\n",
    "        result = func(*args, **kwargs)\n",
    "        print(datetime.now() - start)\n",
    "        return result\n",
    "\n",
    "    return wrapper\n",
    "\n",
    "\n",
    "def five(n):\n",
    "    l = []\n",
    "    for i in range(n):\n",
    "        if i % 2 == 0:\n",
    "            l.append(i)\n",
    "    return l\n",
    "\n",
    "\n",
    "def six(n):\n",
    "    l = [x for x in range(n) if x % 2 == 0]\n",
    "    return l\n"
   ]
  },
  {
   "cell_type": "code",
   "execution_count": 19,
   "id": "4fc087e5",
   "metadata": {},
   "outputs": [
    {
     "name": "stdout",
     "output_type": "stream",
     "text": [
      "<class 'function'>\n",
      "[0, 2, 4, 6, 8]\n"
     ]
    }
   ],
   "source": [
    "l1 = five\n",
    "print(type(l1))\n",
    "a = l1(10)\n",
    "print(a)"
   ]
  },
  {
   "cell_type": "code",
   "execution_count": 20,
   "id": "5fd19e53",
   "metadata": {},
   "outputs": [
    {
     "name": "stdout",
     "output_type": "stream",
     "text": [
      "0:00:00.000759\n",
      "0:00:00.001036\n"
     ]
    }
   ],
   "source": [
    "l1 = timeit(six)\n",
    "a = l1(10000)\n",
    "l2 = timeit(five)(10000)"
   ]
  },
  {
   "cell_type": "markdown",
   "id": "20a32823",
   "metadata": {},
   "source": [
    "Decorator with input parameters"
   ]
  },
  {
   "cell_type": "code",
   "execution_count": 21,
   "id": "0ab5807b",
   "metadata": {},
   "outputs": [
    {
     "name": "stdout",
     "output_type": "stream",
     "text": [
      "name\n",
      "name\n"
     ]
    }
   ],
   "source": [
    "def timeit(new_param):\n",
    "    print(new_param)\n",
    "\n",
    "    def outer(func):\n",
    "        def wrapper(*args, **kwargs):\n",
    "            start = datetime.now()\n",
    "            result = func(*args, **kwargs)\n",
    "            print(datetime.now() - start)\n",
    "            return result\n",
    "\n",
    "        return wrapper\n",
    "\n",
    "    return outer\n",
    "\n",
    "\n",
    "@timeit('name')\n",
    "def seven(n):\n",
    "    l = []\n",
    "    for i in range(n):\n",
    "        if i % 2 == 0:\n",
    "            l.append(i)\n",
    "    return l\n",
    "\n",
    "\n",
    "@timeit('name')\n",
    "def eight(n):\n",
    "    l = [x for x in range(n) if x % 2 == 0]\n",
    "    return l\n",
    "\n",
    "#print(seven(100))"
   ]
  },
  {
   "cell_type": "code",
   "execution_count": 22,
   "id": "102e88d6",
   "metadata": {},
   "outputs": [
    {
     "name": "stdout",
     "output_type": "stream",
     "text": [
      "0:00:00.000007\n",
      "0:00:00.000006\n",
      "name\n",
      "0:00:00.000003\n",
      "0:00:00.000012\n"
     ]
    }
   ],
   "source": [
    "eight(10)\n",
    "seven(10)\n",
    "l1 = timeit('name')(seven)(10)\n",
    "print = l1"
   ]
  },
  {
   "cell_type": "code",
   "execution_count": 72,
   "id": "834d863a",
   "metadata": {},
   "outputs": [
    {
     "name": "stdout",
     "output_type": "stream",
     "text": [
      "0:00:00.000004\n",
      "0:00:00.000005\n"
     ]
    },
    {
     "data": {
      "text/plain": [
       "7"
      ]
     },
     "execution_count": 72,
     "metadata": {},
     "output_type": "execute_result"
    }
   ],
   "source": [
    "@timeit\n",
    "def sum1(a, b, /):\n",
    "    return a + b\n",
    "\n",
    "\n",
    "@timeit\n",
    "def sum2(*, a, b):\n",
    "    return a + b\n",
    "\n",
    "\n",
    "sum1(3, 4)\n",
    "sum2(a=3, b=4)"
   ]
  }
 ],
 "metadata": {
  "kernelspec": {
   "display_name": "Python 3 (ipykernel)",
   "language": "python",
   "name": "python3"
  },
  "language_info": {
   "codemirror_mode": {
    "name": "ipython",
    "version": 3
   },
   "file_extension": ".py",
   "mimetype": "text/x-python",
   "name": "python",
   "nbconvert_exporter": "python",
   "pygments_lexer": "ipython3",
   "version": "3.10.6"
  }
 },
 "nbformat": 4,
 "nbformat_minor": 5
}
